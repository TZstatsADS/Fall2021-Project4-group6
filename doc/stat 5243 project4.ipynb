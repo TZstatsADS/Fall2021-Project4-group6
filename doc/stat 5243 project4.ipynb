{
 "cells": [
  {
   "cell_type": "markdown",
   "id": "79f4185e",
   "metadata": {},
   "source": [
    "### Import Packages"
   ]
  },
  {
   "cell_type": "code",
   "execution_count": 1,
   "id": "f934241d",
   "metadata": {},
   "outputs": [],
   "source": [
    "import pandas as pd\n",
    "import numpy as np\n",
    "import torch as t\n",
    "import torch.nn as nn\n",
    "from torch.nn import functional as F\n",
    "import matplotlib.pyplot as plt"
   ]
  },
  {
   "cell_type": "markdown",
   "id": "919912d7",
   "metadata": {},
   "source": [
    "### Import Data"
   ]
  },
  {
   "cell_type": "code",
   "execution_count": 3,
   "id": "937f0033",
   "metadata": {},
   "outputs": [],
   "source": [
    "data = pd.read_csv(\"../data/compas-scores-two-years.csv\")"
   ]
  },
  {
   "cell_type": "code",
   "execution_count": 4,
   "id": "fe3ee35f",
   "metadata": {},
   "outputs": [
    {
     "data": {
      "text/html": [
       "<div>\n",
       "<style scoped>\n",
       "    .dataframe tbody tr th:only-of-type {\n",
       "        vertical-align: middle;\n",
       "    }\n",
       "\n",
       "    .dataframe tbody tr th {\n",
       "        vertical-align: top;\n",
       "    }\n",
       "\n",
       "    .dataframe thead th {\n",
       "        text-align: right;\n",
       "    }\n",
       "</style>\n",
       "<table border=\"1\" class=\"dataframe\">\n",
       "  <thead>\n",
       "    <tr style=\"text-align: right;\">\n",
       "      <th></th>\n",
       "      <th>id</th>\n",
       "      <th>name</th>\n",
       "      <th>first</th>\n",
       "      <th>last</th>\n",
       "      <th>compas_screening_date</th>\n",
       "      <th>sex</th>\n",
       "      <th>dob</th>\n",
       "      <th>age</th>\n",
       "      <th>age_cat</th>\n",
       "      <th>race</th>\n",
       "      <th>...</th>\n",
       "      <th>v_decile_score</th>\n",
       "      <th>v_score_text</th>\n",
       "      <th>v_screening_date</th>\n",
       "      <th>in_custody</th>\n",
       "      <th>out_custody</th>\n",
       "      <th>priors_count.1</th>\n",
       "      <th>start</th>\n",
       "      <th>end</th>\n",
       "      <th>event</th>\n",
       "      <th>two_year_recid</th>\n",
       "    </tr>\n",
       "  </thead>\n",
       "  <tbody>\n",
       "    <tr>\n",
       "      <th>0</th>\n",
       "      <td>1</td>\n",
       "      <td>miguel hernandez</td>\n",
       "      <td>miguel</td>\n",
       "      <td>hernandez</td>\n",
       "      <td>2013-08-14</td>\n",
       "      <td>Male</td>\n",
       "      <td>1947-04-18</td>\n",
       "      <td>69</td>\n",
       "      <td>Greater than 45</td>\n",
       "      <td>Other</td>\n",
       "      <td>...</td>\n",
       "      <td>1</td>\n",
       "      <td>Low</td>\n",
       "      <td>2013-08-14</td>\n",
       "      <td>2014-07-07</td>\n",
       "      <td>2014-07-14</td>\n",
       "      <td>0</td>\n",
       "      <td>0</td>\n",
       "      <td>327</td>\n",
       "      <td>0</td>\n",
       "      <td>0</td>\n",
       "    </tr>\n",
       "    <tr>\n",
       "      <th>1</th>\n",
       "      <td>3</td>\n",
       "      <td>kevon dixon</td>\n",
       "      <td>kevon</td>\n",
       "      <td>dixon</td>\n",
       "      <td>2013-01-27</td>\n",
       "      <td>Male</td>\n",
       "      <td>1982-01-22</td>\n",
       "      <td>34</td>\n",
       "      <td>25 - 45</td>\n",
       "      <td>African-American</td>\n",
       "      <td>...</td>\n",
       "      <td>1</td>\n",
       "      <td>Low</td>\n",
       "      <td>2013-01-27</td>\n",
       "      <td>2013-01-26</td>\n",
       "      <td>2013-02-05</td>\n",
       "      <td>0</td>\n",
       "      <td>9</td>\n",
       "      <td>159</td>\n",
       "      <td>1</td>\n",
       "      <td>1</td>\n",
       "    </tr>\n",
       "    <tr>\n",
       "      <th>2</th>\n",
       "      <td>4</td>\n",
       "      <td>ed philo</td>\n",
       "      <td>ed</td>\n",
       "      <td>philo</td>\n",
       "      <td>2013-04-14</td>\n",
       "      <td>Male</td>\n",
       "      <td>1991-05-14</td>\n",
       "      <td>24</td>\n",
       "      <td>Less than 25</td>\n",
       "      <td>African-American</td>\n",
       "      <td>...</td>\n",
       "      <td>3</td>\n",
       "      <td>Low</td>\n",
       "      <td>2013-04-14</td>\n",
       "      <td>2013-06-16</td>\n",
       "      <td>2013-06-16</td>\n",
       "      <td>4</td>\n",
       "      <td>0</td>\n",
       "      <td>63</td>\n",
       "      <td>0</td>\n",
       "      <td>1</td>\n",
       "    </tr>\n",
       "    <tr>\n",
       "      <th>3</th>\n",
       "      <td>5</td>\n",
       "      <td>marcu brown</td>\n",
       "      <td>marcu</td>\n",
       "      <td>brown</td>\n",
       "      <td>2013-01-13</td>\n",
       "      <td>Male</td>\n",
       "      <td>1993-01-21</td>\n",
       "      <td>23</td>\n",
       "      <td>Less than 25</td>\n",
       "      <td>African-American</td>\n",
       "      <td>...</td>\n",
       "      <td>6</td>\n",
       "      <td>Medium</td>\n",
       "      <td>2013-01-13</td>\n",
       "      <td>NaN</td>\n",
       "      <td>NaN</td>\n",
       "      <td>1</td>\n",
       "      <td>0</td>\n",
       "      <td>1174</td>\n",
       "      <td>0</td>\n",
       "      <td>0</td>\n",
       "    </tr>\n",
       "    <tr>\n",
       "      <th>4</th>\n",
       "      <td>6</td>\n",
       "      <td>bouthy pierrelouis</td>\n",
       "      <td>bouthy</td>\n",
       "      <td>pierrelouis</td>\n",
       "      <td>2013-03-26</td>\n",
       "      <td>Male</td>\n",
       "      <td>1973-01-22</td>\n",
       "      <td>43</td>\n",
       "      <td>25 - 45</td>\n",
       "      <td>Other</td>\n",
       "      <td>...</td>\n",
       "      <td>1</td>\n",
       "      <td>Low</td>\n",
       "      <td>2013-03-26</td>\n",
       "      <td>NaN</td>\n",
       "      <td>NaN</td>\n",
       "      <td>2</td>\n",
       "      <td>0</td>\n",
       "      <td>1102</td>\n",
       "      <td>0</td>\n",
       "      <td>0</td>\n",
       "    </tr>\n",
       "  </tbody>\n",
       "</table>\n",
       "<p>5 rows × 53 columns</p>\n",
       "</div>"
      ],
      "text/plain": [
       "   id                name   first         last compas_screening_date   sex  \\\n",
       "0   1    miguel hernandez  miguel    hernandez            2013-08-14  Male   \n",
       "1   3         kevon dixon   kevon        dixon            2013-01-27  Male   \n",
       "2   4            ed philo      ed        philo            2013-04-14  Male   \n",
       "3   5         marcu brown   marcu        brown            2013-01-13  Male   \n",
       "4   6  bouthy pierrelouis  bouthy  pierrelouis            2013-03-26  Male   \n",
       "\n",
       "          dob  age          age_cat              race  ...  v_decile_score  \\\n",
       "0  1947-04-18   69  Greater than 45             Other  ...               1   \n",
       "1  1982-01-22   34          25 - 45  African-American  ...               1   \n",
       "2  1991-05-14   24     Less than 25  African-American  ...               3   \n",
       "3  1993-01-21   23     Less than 25  African-American  ...               6   \n",
       "4  1973-01-22   43          25 - 45             Other  ...               1   \n",
       "\n",
       "   v_score_text  v_screening_date  in_custody  out_custody  priors_count.1  \\\n",
       "0           Low        2013-08-14  2014-07-07   2014-07-14               0   \n",
       "1           Low        2013-01-27  2013-01-26   2013-02-05               0   \n",
       "2           Low        2013-04-14  2013-06-16   2013-06-16               4   \n",
       "3        Medium        2013-01-13         NaN          NaN               1   \n",
       "4           Low        2013-03-26         NaN          NaN               2   \n",
       "\n",
       "  start   end event two_year_recid  \n",
       "0     0   327     0              0  \n",
       "1     9   159     1              1  \n",
       "2     0    63     0              1  \n",
       "3     0  1174     0              0  \n",
       "4     0  1102     0              0  \n",
       "\n",
       "[5 rows x 53 columns]"
      ]
     },
     "execution_count": 4,
     "metadata": {},
     "output_type": "execute_result"
    }
   ],
   "source": [
    "data.head()"
   ]
  },
  {
   "cell_type": "markdown",
   "id": "dcbff2a9",
   "metadata": {},
   "source": [
    "## Data Preprocessing"
   ]
  },
  {
   "cell_type": "code",
   "execution_count": 5,
   "id": "e960f31c",
   "metadata": {},
   "outputs": [],
   "source": [
    "data_extract = data[['c_charge_degree','race','age_cat','score_text','sex','priors_count','days_b_screening_arrest','decile_score','is_recid','two_year_recid','c_jail_in','c_jail_out']]\n",
    "data_extract = data_extract[data_extract['days_b_screening_arrest'] <=30]\n",
    "data_extract = data_extract[data_extract['days_b_screening_arrest'] >= -30]\n",
    "data_extract = data_extract[data_extract['is_recid'] != -1]\n",
    "data_extract = data_extract[data_extract['c_charge_degree'] != 'O']\n",
    "data_extract = data_extract[data_extract['score_text'] != 'N/A']\n",
    "\n",
    "data_extract['c_jail_out'] =  data_extract['c_jail_out'].apply(pd.to_datetime)\n",
    "data_extract['c_jail_in'] = data_extract['c_jail_in'].apply(pd.to_datetime)\n",
    "data_extract['length_of_stay'] = data_extract['c_jail_out'] - data_extract['c_jail_in']\n",
    "data_extract['length_of_stay'] = data_extract['length_of_stay'].dt.days\n",
    "data_extract['length_of_stay'] = data_extract.length_of_stay.apply(lambda x:'greater than 100 days'  if x >100 else ('10-100 days' if x >10 else 'less than 10 days'))\n",
    "\n",
    "\n",
    "categorical_variabls = [\"c_charge_degree\",\"race\",\"age_cat\",\"score_text\",'is_recid','two_year_recid','length_of_stay']\n",
    "for var in categorical_variabls:\n",
    "    data_extract[var] = data_extract[var].astype('category')\n",
    "    data_extract[var+\"_code\"] = data_extract[var].cat.codes\n",
    "data_extract_african_america = data_extract[(data_extract['race']=='African-American')]\n",
    "data_extract_caucasian = data_extract[(data_extract['race']=='Caucasian')]\n",
    "data_extract_african_america = data_extract_african_america[['two_year_recid_code','is_recid_code','score_text_code','age_cat_code','race_code','c_charge_degree_code','length_of_stay_code','priors_count','days_b_screening_arrest','decile_score']]\n",
    "data_extract_caucasian = data_extract_caucasian[['two_year_recid_code','is_recid_code','score_text_code','age_cat_code','race_code','c_charge_degree_code','length_of_stay_code','priors_count','days_b_screening_arrest','decile_score']]\n"
   ]
  },
  {
   "cell_type": "code",
   "execution_count": 6,
   "id": "1853d6e6",
   "metadata": {},
   "outputs": [
    {
     "data": {
      "text/html": [
       "<div>\n",
       "<style scoped>\n",
       "    .dataframe tbody tr th:only-of-type {\n",
       "        vertical-align: middle;\n",
       "    }\n",
       "\n",
       "    .dataframe tbody tr th {\n",
       "        vertical-align: top;\n",
       "    }\n",
       "\n",
       "    .dataframe thead th {\n",
       "        text-align: right;\n",
       "    }\n",
       "</style>\n",
       "<table border=\"1\" class=\"dataframe\">\n",
       "  <thead>\n",
       "    <tr style=\"text-align: right;\">\n",
       "      <th></th>\n",
       "      <th>two_year_recid_code</th>\n",
       "      <th>is_recid_code</th>\n",
       "      <th>score_text_code</th>\n",
       "      <th>age_cat_code</th>\n",
       "      <th>race_code</th>\n",
       "      <th>c_charge_degree_code</th>\n",
       "      <th>length_of_stay_code</th>\n",
       "      <th>priors_count</th>\n",
       "      <th>days_b_screening_arrest</th>\n",
       "      <th>decile_score</th>\n",
       "    </tr>\n",
       "  </thead>\n",
       "  <tbody>\n",
       "    <tr>\n",
       "      <th>1</th>\n",
       "      <td>1</td>\n",
       "      <td>1</td>\n",
       "      <td>1</td>\n",
       "      <td>0</td>\n",
       "      <td>0</td>\n",
       "      <td>0</td>\n",
       "      <td>2</td>\n",
       "      <td>0</td>\n",
       "      <td>-1.0</td>\n",
       "      <td>3</td>\n",
       "    </tr>\n",
       "    <tr>\n",
       "      <th>2</th>\n",
       "      <td>1</td>\n",
       "      <td>1</td>\n",
       "      <td>1</td>\n",
       "      <td>2</td>\n",
       "      <td>0</td>\n",
       "      <td>0</td>\n",
       "      <td>2</td>\n",
       "      <td>4</td>\n",
       "      <td>-1.0</td>\n",
       "      <td>4</td>\n",
       "    </tr>\n",
       "    <tr>\n",
       "      <th>11</th>\n",
       "      <td>1</td>\n",
       "      <td>1</td>\n",
       "      <td>2</td>\n",
       "      <td>2</td>\n",
       "      <td>0</td>\n",
       "      <td>1</td>\n",
       "      <td>2</td>\n",
       "      <td>3</td>\n",
       "      <td>0.0</td>\n",
       "      <td>6</td>\n",
       "    </tr>\n",
       "    <tr>\n",
       "      <th>13</th>\n",
       "      <td>0</td>\n",
       "      <td>0</td>\n",
       "      <td>1</td>\n",
       "      <td>0</td>\n",
       "      <td>0</td>\n",
       "      <td>0</td>\n",
       "      <td>2</td>\n",
       "      <td>0</td>\n",
       "      <td>-1.0</td>\n",
       "      <td>4</td>\n",
       "    </tr>\n",
       "    <tr>\n",
       "      <th>15</th>\n",
       "      <td>1</td>\n",
       "      <td>1</td>\n",
       "      <td>1</td>\n",
       "      <td>0</td>\n",
       "      <td>0</td>\n",
       "      <td>0</td>\n",
       "      <td>2</td>\n",
       "      <td>7</td>\n",
       "      <td>22.0</td>\n",
       "      <td>3</td>\n",
       "    </tr>\n",
       "  </tbody>\n",
       "</table>\n",
       "</div>"
      ],
      "text/plain": [
       "    two_year_recid_code  is_recid_code  score_text_code  age_cat_code  \\\n",
       "1                     1              1                1             0   \n",
       "2                     1              1                1             2   \n",
       "11                    1              1                2             2   \n",
       "13                    0              0                1             0   \n",
       "15                    1              1                1             0   \n",
       "\n",
       "    race_code  c_charge_degree_code  length_of_stay_code  priors_count  \\\n",
       "1           0                     0                    2             0   \n",
       "2           0                     0                    2             4   \n",
       "11          0                     1                    2             3   \n",
       "13          0                     0                    2             0   \n",
       "15          0                     0                    2             7   \n",
       "\n",
       "    days_b_screening_arrest  decile_score  \n",
       "1                      -1.0             3  \n",
       "2                      -1.0             4  \n",
       "11                      0.0             6  \n",
       "13                     -1.0             4  \n",
       "15                     22.0             3  "
      ]
     },
     "execution_count": 6,
     "metadata": {},
     "output_type": "execute_result"
    }
   ],
   "source": [
    "data_extract_african_america.head()"
   ]
  },
  {
   "cell_type": "code",
   "execution_count": 8,
   "id": "da14349c",
   "metadata": {},
   "outputs": [
    {
     "data": {
      "text/html": [
       "<div>\n",
       "<style scoped>\n",
       "    .dataframe tbody tr th:only-of-type {\n",
       "        vertical-align: middle;\n",
       "    }\n",
       "\n",
       "    .dataframe tbody tr th {\n",
       "        vertical-align: top;\n",
       "    }\n",
       "\n",
       "    .dataframe thead th {\n",
       "        text-align: right;\n",
       "    }\n",
       "</style>\n",
       "<table border=\"1\" class=\"dataframe\">\n",
       "  <thead>\n",
       "    <tr style=\"text-align: right;\">\n",
       "      <th></th>\n",
       "      <th>two_year_recid_code</th>\n",
       "      <th>is_recid_code</th>\n",
       "      <th>score_text_code</th>\n",
       "      <th>age_cat_code</th>\n",
       "      <th>race_code</th>\n",
       "      <th>c_charge_degree_code</th>\n",
       "      <th>length_of_stay_code</th>\n",
       "      <th>priors_count</th>\n",
       "      <th>days_b_screening_arrest</th>\n",
       "      <th>decile_score</th>\n",
       "    </tr>\n",
       "  </thead>\n",
       "  <tbody>\n",
       "    <tr>\n",
       "      <th>6</th>\n",
       "      <td>1</td>\n",
       "      <td>1</td>\n",
       "      <td>2</td>\n",
       "      <td>0</td>\n",
       "      <td>2</td>\n",
       "      <td>0</td>\n",
       "      <td>2</td>\n",
       "      <td>14</td>\n",
       "      <td>-1.0</td>\n",
       "      <td>6</td>\n",
       "    </tr>\n",
       "    <tr>\n",
       "      <th>8</th>\n",
       "      <td>0</td>\n",
       "      <td>0</td>\n",
       "      <td>1</td>\n",
       "      <td>0</td>\n",
       "      <td>2</td>\n",
       "      <td>1</td>\n",
       "      <td>2</td>\n",
       "      <td>0</td>\n",
       "      <td>-1.0</td>\n",
       "      <td>1</td>\n",
       "    </tr>\n",
       "    <tr>\n",
       "      <th>10</th>\n",
       "      <td>0</td>\n",
       "      <td>0</td>\n",
       "      <td>1</td>\n",
       "      <td>0</td>\n",
       "      <td>2</td>\n",
       "      <td>0</td>\n",
       "      <td>2</td>\n",
       "      <td>0</td>\n",
       "      <td>-1.0</td>\n",
       "      <td>4</td>\n",
       "    </tr>\n",
       "    <tr>\n",
       "      <th>12</th>\n",
       "      <td>0</td>\n",
       "      <td>0</td>\n",
       "      <td>1</td>\n",
       "      <td>0</td>\n",
       "      <td>2</td>\n",
       "      <td>1</td>\n",
       "      <td>2</td>\n",
       "      <td>0</td>\n",
       "      <td>0.0</td>\n",
       "      <td>1</td>\n",
       "    </tr>\n",
       "    <tr>\n",
       "      <th>14</th>\n",
       "      <td>1</td>\n",
       "      <td>1</td>\n",
       "      <td>1</td>\n",
       "      <td>1</td>\n",
       "      <td>2</td>\n",
       "      <td>0</td>\n",
       "      <td>0</td>\n",
       "      <td>1</td>\n",
       "      <td>-20.0</td>\n",
       "      <td>1</td>\n",
       "    </tr>\n",
       "  </tbody>\n",
       "</table>\n",
       "</div>"
      ],
      "text/plain": [
       "    two_year_recid_code  is_recid_code  score_text_code  age_cat_code  \\\n",
       "6                     1              1                2             0   \n",
       "8                     0              0                1             0   \n",
       "10                    0              0                1             0   \n",
       "12                    0              0                1             0   \n",
       "14                    1              1                1             1   \n",
       "\n",
       "    race_code  c_charge_degree_code  length_of_stay_code  priors_count  \\\n",
       "6           2                     0                    2            14   \n",
       "8           2                     1                    2             0   \n",
       "10          2                     0                    2             0   \n",
       "12          2                     1                    2             0   \n",
       "14          2                     0                    0             1   \n",
       "\n",
       "    days_b_screening_arrest  decile_score  \n",
       "6                      -1.0             6  \n",
       "8                      -1.0             1  \n",
       "10                     -1.0             4  \n",
       "12                      0.0             1  \n",
       "14                    -20.0             1  "
      ]
     },
     "execution_count": 8,
     "metadata": {},
     "output_type": "execute_result"
    }
   ],
   "source": [
    "data_extract_caucasian.head()"
   ]
  },
  {
   "cell_type": "markdown",
   "id": "2846d03b",
   "metadata": {},
   "source": [
    "### Split the data into train, test and validation with the proportion of training: validation: testing = 5: 1: 1"
   ]
  },
  {
   "cell_type": "code",
   "execution_count": 9,
   "id": "3a61052e",
   "metadata": {},
   "outputs": [
    {
     "name": "stderr",
     "output_type": "stream",
     "text": [
      "<ipython-input-9-c13f0df19183>:3: FutureWarning: In a future version of pandas all arguments of DataFrame.drop except for the argument 'labels' will be keyword-only\n",
      "  x_train_african_america = t.tensor(train_african_america.drop(['two_year_recid_code'],1).values)\n",
      "<ipython-input-9-c13f0df19183>:6: FutureWarning: In a future version of pandas all arguments of DataFrame.drop except for the argument 'labels' will be keyword-only\n",
      "  x_val_african_america = t.tensor(validate_african_america.drop(['two_year_recid_code'],1).values)\n",
      "<ipython-input-9-c13f0df19183>:9: FutureWarning: In a future version of pandas all arguments of DataFrame.drop except for the argument 'labels' will be keyword-only\n",
      "  x_test_african_america = t.tensor(test_african_america.drop(['two_year_recid_code'],1).values)\n"
     ]
    }
   ],
   "source": [
    "train_african_america, validate_african_america, test_african_america = np.split(data_extract_african_america.sample(frac=1, random_state=42), \n",
    "                       [int(.72*len(data_extract_african_america)), int(.86*len(data_extract_african_america))])\n",
    "x_train_african_america = t.tensor(train_african_america.drop(['two_year_recid_code'],1).values)\n",
    "y_train_african_america = t.tensor(train_african_america['two_year_recid_code'].values)\n",
    "y_train_african_america = y_train_african_america.reshape(y_train_african_america.shape[0],1)\n",
    "x_val_african_america = t.tensor(validate_african_america.drop(['two_year_recid_code'],1).values)\n",
    "y_val_african_america = t.tensor(validate_african_america['two_year_recid_code'].values)\n",
    "y_val_african_america = y_val_african_america.reshape(y_val_african_america.shape[0],1)\n",
    "x_test_african_america = t.tensor(test_african_america.drop(['two_year_recid_code'],1).values)\n",
    "y_test_african_america = t.tensor(test_african_america['two_year_recid_code'].values)\n",
    "y_test_african_america = y_test_african_america.reshape(y_test_african_america.shape[0],1)"
   ]
  },
  {
   "cell_type": "code",
   "execution_count": 10,
   "id": "b18f3f97",
   "metadata": {},
   "outputs": [
    {
     "name": "stderr",
     "output_type": "stream",
     "text": [
      "<ipython-input-10-65548961afdc>:3: FutureWarning: In a future version of pandas all arguments of DataFrame.drop except for the argument 'labels' will be keyword-only\n",
      "  x_train_caucasian = t.tensor(train_caucasian.drop(['two_year_recid_code'],1).values)\n",
      "<ipython-input-10-65548961afdc>:6: FutureWarning: In a future version of pandas all arguments of DataFrame.drop except for the argument 'labels' will be keyword-only\n",
      "  x_val_caucasian = t.tensor(validate_caucasian.drop(['two_year_recid_code'],1).values)\n",
      "<ipython-input-10-65548961afdc>:9: FutureWarning: In a future version of pandas all arguments of DataFrame.drop except for the argument 'labels' will be keyword-only\n",
      "  x_test_caucasian = t.tensor(test_caucasian.drop(['two_year_recid_code'],1).values)\n"
     ]
    }
   ],
   "source": [
    "train_caucasian, validate_caucasian, test_caucasian = np.split(data_extract_caucasian.sample(frac=1, random_state=42), \n",
    "                       [int(.72*len(data_extract_caucasian)), int(.86*len(data_extract_caucasian))])\n",
    "x_train_caucasian = t.tensor(train_caucasian.drop(['two_year_recid_code'],1).values)\n",
    "y_train_caucasian = t.tensor(train_caucasian['two_year_recid_code'].values)\n",
    "y_train_caucasian = y_train_caucasian.reshape(y_train_caucasian.shape[0],1)\n",
    "x_val_caucasian = t.tensor(validate_caucasian.drop(['two_year_recid_code'],1).values)\n",
    "y_val_caucasian = t.tensor(validate_caucasian['two_year_recid_code'].values)\n",
    "y_val_caucasian = y_val_caucasian.reshape(y_val_caucasian.shape[0],1)\n",
    "x_test_caucasian = t.tensor(test_caucasian.drop(['two_year_recid_code'],1).values)\n",
    "y_test_caucasian = t.tensor(test_caucasian['two_year_recid_code'].values)\n",
    "y_test_caucasian = y_test_caucasian.reshape(y_test_caucasian.shape[0],1)\n"
   ]
  },
  {
   "cell_type": "markdown",
   "id": "d0e8bfc4",
   "metadata": {},
   "source": [
    "### Baseline Model: Logistic Regression"
   ]
  },
  {
   "cell_type": "code",
   "execution_count": 11,
   "id": "534327f0",
   "metadata": {},
   "outputs": [],
   "source": [
    "class LogisticRegression(nn.Module):\n",
    "    def __init__(self,data):\n",
    "        super(LogisticRegression, self).__init__()\n",
    "        self.w = nn.Linear(data.shape[1], out_features=1, bias=True)\n",
    "        self.sigmod = nn.Sigmoid()\n",
    "    def forward(self,x):\n",
    "        w = self.w(x)\n",
    "        output = self.sigmod(w)\n",
    "        return output"
   ]
  },
  {
   "cell_type": "code",
   "execution_count": 12,
   "id": "6dfe7d3e",
   "metadata": {},
   "outputs": [],
   "source": [
    "x_train = t.cat((x_train_african_america, x_train_caucasian), 0)\n",
    "y_train = t.cat((y_train_african_america, y_train_caucasian), 0)\n",
    "x_val = t.cat((x_val_african_america, x_train_caucasian), 0)\n",
    "y_val = t.cat((y_val_african_america, y_train_caucasian), 0)"
   ]
  },
  {
   "cell_type": "code",
   "execution_count": 13,
   "id": "f9432edf",
   "metadata": {},
   "outputs": [],
   "source": [
    "model = LogisticRegression(x_train)\n",
    "criterion = nn.BCELoss(reduction='sum')\n",
    "epochs = 200\n",
    "optimizer = t.optim.Adam(list(model.parameters()), 0.01, weight_decay=1e-5)\n",
    "train_losses = []\n",
    "val_losses = []\n",
    "for epoch in range(epochs):\n",
    "    model.train()\n",
    "    optimizer.zero_grad()\n",
    "    output = model(x_train.float())\n",
    "    train_loss = criterion(output, y_train.float())\n",
    "    train_losses.append(train_loss.item())\n",
    "    train_loss.backward()\n",
    "    optimizer.step()\n",
    "    model.eval() \n",
    "    output = model(x_val.float())\n",
    "    val_loss = criterion(output, y_val.float())\n",
    "    val_losses.append(val_loss.item())"
   ]
  },
  {
   "cell_type": "code",
   "execution_count": 17,
   "id": "b13c7aec",
   "metadata": {},
   "outputs": [
    {
     "data": {
      "image/png": "[encoded data removed]",
      "text/plain": [
       "<Figure size 432x288 with 1 Axes>"
      ]
     },
     "metadata": {
      "needs_background": "light"
     },
     "output_type": "display_data"
    }
   ],
   "source": [
    "plt.plot(list(range(200)),train_losses, label=\"train loss\")\n",
    "plt.plot(list(range(200)),val_losses, label=\"validation loss\")\n",
    "plt.legend(loc=\"upper left\")\n",
    "plt.xlabel('Number of epochs')\n",
    "plt.ylabel('CV_score')\n",
    "plt.show()"
   ]
  },
  {
   "cell_type": "code",
   "execution_count": 28,
   "id": "7b6b81ef",
   "metadata": {},
   "outputs": [],
   "source": [
    "model.eval()\n",
    "y_am_pred = (model(x_test_african_america.float()) >=0.5)\n",
    "y_cau_pred = (model(x_test_caucasian.float()) >=0.5)\n",
    "accuracy  = (t.sum(y_am_pred.flatten() == y_test_african_america.flatten()) + t.sum(y_cau_pred.flatten() == y_test_caucasian.flatten())) / (x_test_african_america.shape[0]+x_test_caucasian.shape[0])\n",
    "accu_am  = t.sum(y_am_pred.flatten() == y_test_african_america.flatten()) / x_test_african_america.shape[0]\n",
    "accu_caucasian  = t.sum(y_cau_pred.flatten() == y_test_caucasian.flatten()) / x_test_caucasian.shape[0]\n",
    "calibration = abs(accu_caucasian - accu_am)"
   ]
  },
  {
   "cell_type": "code",
   "execution_count": 29,
   "id": "d2dc4d49",
   "metadata": {},
   "outputs": [
    {
     "data": {
      "text/plain": [
       "tensor(0.9541)"
      ]
     },
     "execution_count": 29,
     "metadata": {},
     "output_type": "execute_result"
    }
   ],
   "source": [
    "accuracy # whole dataset"
   ]
  },
  {
   "cell_type": "code",
   "execution_count": 30,
   "id": "7d00d169",
   "metadata": {},
   "outputs": [
    {
     "data": {
      "text/plain": [
       "tensor(0.0369)"
      ]
     },
     "execution_count": 30,
     "metadata": {},
     "output_type": "execute_result"
    }
   ],
   "source": [
    "calibration  # diff of af and caucas"
   ]
  },
  {
   "cell_type": "markdown",
   "id": "64807c95",
   "metadata": {},
   "source": [
    "### Prejudice Remover Regularizer"
   ]
  },
  {
   "cell_type": "code",
   "execution_count": 31,
   "id": "ff6e923f",
   "metadata": {},
   "outputs": [],
   "source": [
    "class PrejudictRemoverLoss():\n",
    "    def __init__(self, eta=1.0):\n",
    "        super(PrejudictRemoverLoss, self).__init__()\n",
    "        self.eta = eta  \n",
    "    def forward(self,output_caucasian,output_african_america):\n",
    "        N_caucasian = t.tensor(output_caucasian.shape[0])\n",
    "        N_african_america   = t.tensor(output_african_america.shape[0])\n",
    "        Dxisi = t.stack((N_african_america,N_caucasian),axis=0) \n",
    "        # Pr[y|s]\n",
    "        y_pred_caucasian = t.sum(output_caucasian)   # (16)\n",
    "        y_pred_african_america = t.sum(output_african_america)\n",
    "        p_ys = t.stack((y_pred_african_america,y_pred_caucasian),axis=0) / Dxisi\n",
    "        # Pr[y]\n",
    "        p = t.cat((output_caucasian,output_african_america),0) #(17)\n",
    "        p_y = t.sum(p) / (x_train_caucasian.shape[0]+x_train_african_america.shape[0])  \n",
    "        # P(siyi)\n",
    "        p_s1y1 = t.log(p_ys[1]) - t.log(p_y)  # (15)\n",
    "        p_s1y0 = t.log(1-p_ys[1]) - t.log(1-p_y)\n",
    "        p_s0y1 = t.log(p_ys[0]) - t.log(p_y)\n",
    "        p_s0y0 = t.log(1-p_ys[0]) - t.log(1-p_y)\n",
    "        # PI\n",
    "        pi_s1y1 = output_caucasian * p_s1y1   # (14)\n",
    "        pi_s1y0 =(1- output_caucasian) * p_s1y0\n",
    "        pi_s0y1 = output_african_america * p_s0y1\n",
    "        pi_s0y0 = (1- output_african_america )* p_s0y0\n",
    "        pi = t.sum(pi_s1y1) + t.sum(pi_s1y0) + t.sum(pi_s0y1) + t.sum(pi_s0y0)\n",
    "        pi = self.eta * pi\n",
    "        return pi"
   ]
  },
  {
   "cell_type": "code",
   "execution_count": 34,
   "id": "c52d1cf7",
   "metadata": {},
   "outputs": [],
   "source": [
    "model_african_america = LogisticRegression(x_train_african_america)\n",
    "model_caucasian = LogisticRegression(x_train_caucasian)\n",
    "criterion = nn.BCELoss(reduction='sum')\n",
    "pi = PrejudictRemoverLoss()\n",
    "epochs = 200\n",
    "optimizer = t.optim.Adam(list(model_caucasian.parameters())+ list(model_african_america.parameters()), 0.01, weight_decay=1e-5)\n",
    "train_losses = []\n",
    "val_losses = []\n",
    "for epoch in range(epochs):\n",
    "    model_african_america.train()\n",
    "    model_caucasian.train()\n",
    "    optimizer.zero_grad()\n",
    "    output_african_america = model_african_america(x_train_african_america.float())\n",
    "    output_caucasian = model_caucasian(x_train_caucasian.float())\n",
    "    logloss = criterion(output_african_america, y_train_african_america.float())+ criterion(output_caucasian, y_train_caucasian.float())\n",
    "    pi_loss = pi.forward(output_african_america,output_caucasian)\n",
    "    train_loss = pi_loss +logloss\n",
    "    train_loss.backward()\n",
    "    train_losses.append(train_loss.item())\n",
    "    optimizer.step()\n",
    "    model_african_america.eval() \n",
    "    model_caucasian.eval()\n",
    "    output_african_america = model_african_america(x_val_african_america.float())\n",
    "    output_caucasian = model_caucasian(x_val_caucasian.float())\n",
    "    logloss = criterion(output_african_america, y_val_african_america.float())+ criterion(output_caucasian, y_val_caucasian.float())\n",
    "    pi_loss = pi.forward(output_african_america,output_caucasian)\n",
    "    val_loss = pi_loss +logloss\n",
    "    val_losses.append(val_loss.item())"
   ]
  },
  {
   "cell_type": "code",
   "execution_count": 35,
   "id": "db5ac290",
   "metadata": {},
   "outputs": [
    {
     "data": {
      "image/png": "[encoded data removed]",
      "text/plain": [
       "<Figure size 432x288 with 1 Axes>"
      ]
     },
     "metadata": {
      "needs_background": "light"
     },
     "output_type": "display_data"
    }
   ],
   "source": [
    "plt.plot(list(range(200)),train_losses, label=\"train loss\")\n",
    "plt.plot(list(range(200)),val_losses, label=\"validation loss\")\n",
    "plt.legend(loc=\"upper left\")\n",
    "plt.xlabel('Number of epochs')\n",
    "plt.ylabel('CV_score')\n",
    "plt.show()"
   ]
  },
  {
   "cell_type": "code",
   "execution_count": 36,
   "id": "0e1f0b7d",
   "metadata": {},
   "outputs": [],
   "source": [
    "y_am_pred = (model_african_america(x_test_african_america.float()) >=0.5)\n",
    "y_cau_pred = (model_caucasian(x_test_caucasian.float()) >=0.5)\n",
    "accuracy  = (t.sum(y_am_pred.flatten() == y_test_african_america.flatten()) + t.sum(y_cau_pred.flatten() == y_test_caucasian.flatten())) / (x_test_african_america.shape[0]+x_test_caucasian.shape[0])\n",
    "accu_am  = t.sum(y_am_pred.flatten() == y_test_african_america.flatten()) / x_test_african_america.shape[0]\n",
    "accu_caucasian  = t.sum(y_cau_pred.flatten() == y_test_caucasian.flatten()) / x_test_caucasian.shape[0]\n",
    "calibration = abs(accu_caucasian - accu_am)\n"
   ]
  },
  {
   "cell_type": "code",
   "execution_count": 37,
   "id": "355bdb5f",
   "metadata": {},
   "outputs": [
    {
     "data": {
      "text/plain": [
       "tensor(0.9311)"
      ]
     },
     "execution_count": 37,
     "metadata": {},
     "output_type": "execute_result"
    }
   ],
   "source": [
    "accuracy"
   ]
  },
  {
   "cell_type": "code",
   "execution_count": 38,
   "id": "0597c4cf",
   "metadata": {},
   "outputs": [
    {
     "data": {
      "text/plain": [
       "tensor(0.0301)"
      ]
     },
     "execution_count": 38,
     "metadata": {},
     "output_type": "execute_result"
    }
   ],
   "source": [
    "calibration"
   ]
  },
  {
   "cell_type": "code",
   "execution_count": null,
   "id": "ffb475d3",
   "metadata": {},
   "outputs": [],
   "source": []
  }
 ],
 "metadata": {
  "hide_input": false,
  "kernelspec": {
   "display_name": "Python 3",
   "language": "python",
   "name": "python3"
  },
  "language_info": {
   "codemirror_mode": {
    "name": "ipython",
    "version": 3
   },
   "file_extension": ".py",
   "mimetype": "text/x-python",
   "name": "python",
   "nbconvert_exporter": "python",
   "pygments_lexer": "ipython3",
   "version": "3.8.8"
  },
  "varInspector": {
   "cols": {
    "lenName": 16,
    "lenType": 16,
    "lenVar": 40
   },
   "kernels_config": {
    "python": {
     "delete_cmd_postfix": "",
     "delete_cmd_prefix": "del ",
     "library": "var_list.py",
     "varRefreshCmd": "print(var_dic_list())"
    },
    "r": {
     "delete_cmd_postfix": ") ",
     "delete_cmd_prefix": "rm(",
     "library": "var_list.r",
     "varRefreshCmd": "cat(var_dic_list()) "
    }
   },
   "types_to_exclude": [
    "module",
    "function",
    "builtin_function_or_method",
    "instance",
    "_Feature"
   ],
   "window_display": false
  }
 },
 "nbformat": 4,
 "nbformat_minor": 5
}
