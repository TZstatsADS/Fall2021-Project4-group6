{
 "cells": [
  {
   "cell_type": "code",
   "execution_count": 1,
   "metadata": {},
   "outputs": [],
   "source": [
    "import numpy as np\n",
    "import pandas as pd\n",
    "#!pip install torch\n",
    "import torch as t\n",
    "import torch.nn as nn\n",
    "from torch.nn import functional as F\n",
    "from sklearn.model_selection import train_test_split\n",
    "import matplotlib.pyplot as plt"
   ]
  },
  {
   "cell_type": "code",
   "execution_count": 2,
   "metadata": {},
   "outputs": [],
   "source": [
    "df=pd.read_csv('../data/compas-scores-two-years.csv')"
   ]
  },
  {
   "cell_type": "code",
   "execution_count": 3,
   "metadata": {},
   "outputs": [],
   "source": [
    "df1=df[[\"sex\",\"age_cat\",'decile_score','priors_count','days_b_screening_arrest', 'c_jail_in', 'c_jail_out','c_charge_degree','is_recid','score_text',\"race\", 'two_year_recid']]\n",
    "df1=df1[(df1['days_b_screening_arrest'] <= 30)|(df1['days_b_screening_arrest'] >= -30)]\n",
    "df1=df1[df1['is_recid'] != -1]\n",
    "df1=df1[df1['c_charge_degree'] != \"O\"]\n",
    "df1=df1[df1['score_text'] != 'N/A']\n",
    "\n",
    "df1['length_of_stay']=df1['c_jail_out'].apply(pd.to_datetime) - df1['c_jail_in'].apply(pd.to_datetime)\n",
    "df1['length_of_stay']=df1['length_of_stay'].dt.days\n",
    "df1['length_of_stay'] = df1.length_of_stay.apply(lambda x:'greater than 100 days'  if x >100 else ('10-100 days' if x >10 else 'less than 10 days'))\n",
    "\n",
    "df1=df1[(df1['race'] == 'Caucasian') | (df1['race'] == 'African-American')]\n",
    "df1.loc[df1.race=='Caucasian','race']=1\n",
    "df1.loc[df1.race=='African-American','race']=0\n",
    "\n",
    "categorical_variabls = [\"c_charge_degree\",\"race\",\"sex\",\"age_cat\",\"score_text\",'is_recid','two_year_recid','length_of_stay']\n",
    "for var in categorical_variabls:\n",
    "    df1[var] = df1[var].astype('category').cat.codes\n",
    "    \n",
    "df1=df1[[\"sex\",\"age_cat\",'decile_score','priors_count','days_b_screening_arrest','c_charge_degree','is_recid','score_text','length_of_stay',\"race\", 'two_year_recid']]"
   ]
  },
  {
   "cell_type": "code",
   "execution_count": 4,
   "metadata": {},
   "outputs": [
    {
     "data": {
      "text/html": [
       "<div>\n",
       "<style scoped>\n",
       "    .dataframe tbody tr th:only-of-type {\n",
       "        vertical-align: middle;\n",
       "    }\n",
       "\n",
       "    .dataframe tbody tr th {\n",
       "        vertical-align: top;\n",
       "    }\n",
       "\n",
       "    .dataframe thead th {\n",
       "        text-align: right;\n",
       "    }\n",
       "</style>\n",
       "<table border=\"1\" class=\"dataframe\">\n",
       "  <thead>\n",
       "    <tr style=\"text-align: right;\">\n",
       "      <th></th>\n",
       "      <th></th>\n",
       "      <th>count</th>\n",
       "    </tr>\n",
       "    <tr>\n",
       "      <th>race</th>\n",
       "      <th>two_year_recid</th>\n",
       "      <th></th>\n",
       "    </tr>\n",
       "  </thead>\n",
       "  <tbody>\n",
       "    <tr>\n",
       "      <th rowspan=\"2\" valign=\"top\">0</th>\n",
       "      <th>0</th>\n",
       "      <td>1668</td>\n",
       "    </tr>\n",
       "    <tr>\n",
       "      <th>1</th>\n",
       "      <td>1869</td>\n",
       "    </tr>\n",
       "    <tr>\n",
       "      <th rowspan=\"2\" valign=\"top\">1</th>\n",
       "      <th>0</th>\n",
       "      <td>1421</td>\n",
       "    </tr>\n",
       "    <tr>\n",
       "      <th>1</th>\n",
       "      <td>957</td>\n",
       "    </tr>\n",
       "  </tbody>\n",
       "</table>\n",
       "</div>"
      ],
      "text/plain": [
       "                     count\n",
       "race two_year_recid       \n",
       "0    0                1668\n",
       "     1                1869\n",
       "1    0                1421\n",
       "     1                 957"
      ]
     },
     "execution_count": 4,
     "metadata": {},
     "output_type": "execute_result"
    }
   ],
   "source": [
    "df1.groupby(['race', 'two_year_recid'])['sex'].agg([ 'count'])"
   ]
  },
  {
   "cell_type": "code",
   "execution_count": 5,
   "metadata": {},
   "outputs": [
    {
     "data": {
      "text/html": [
       "<div>\n",
       "<style scoped>\n",
       "    .dataframe tbody tr th:only-of-type {\n",
       "        vertical-align: middle;\n",
       "    }\n",
       "\n",
       "    .dataframe tbody tr th {\n",
       "        vertical-align: top;\n",
       "    }\n",
       "\n",
       "    .dataframe thead th {\n",
       "        text-align: right;\n",
       "    }\n",
       "</style>\n",
       "<table border=\"1\" class=\"dataframe\">\n",
       "  <thead>\n",
       "    <tr style=\"text-align: right;\">\n",
       "      <th></th>\n",
       "      <th>sex</th>\n",
       "      <th>age_cat</th>\n",
       "      <th>decile_score</th>\n",
       "      <th>priors_count</th>\n",
       "      <th>days_b_screening_arrest</th>\n",
       "      <th>c_charge_degree</th>\n",
       "      <th>is_recid</th>\n",
       "      <th>score_text</th>\n",
       "      <th>length_of_stay</th>\n",
       "      <th>two_year_recid</th>\n",
       "    </tr>\n",
       "  </thead>\n",
       "  <tbody>\n",
       "    <tr>\n",
       "      <th>1</th>\n",
       "      <td>1</td>\n",
       "      <td>0</td>\n",
       "      <td>3</td>\n",
       "      <td>0</td>\n",
       "      <td>-1.0</td>\n",
       "      <td>0</td>\n",
       "      <td>1</td>\n",
       "      <td>1</td>\n",
       "      <td>2</td>\n",
       "      <td>1</td>\n",
       "    </tr>\n",
       "    <tr>\n",
       "      <th>2</th>\n",
       "      <td>1</td>\n",
       "      <td>2</td>\n",
       "      <td>4</td>\n",
       "      <td>4</td>\n",
       "      <td>-1.0</td>\n",
       "      <td>0</td>\n",
       "      <td>1</td>\n",
       "      <td>1</td>\n",
       "      <td>2</td>\n",
       "      <td>1</td>\n",
       "    </tr>\n",
       "    <tr>\n",
       "      <th>11</th>\n",
       "      <td>1</td>\n",
       "      <td>2</td>\n",
       "      <td>6</td>\n",
       "      <td>3</td>\n",
       "      <td>0.0</td>\n",
       "      <td>1</td>\n",
       "      <td>1</td>\n",
       "      <td>2</td>\n",
       "      <td>2</td>\n",
       "      <td>1</td>\n",
       "    </tr>\n",
       "    <tr>\n",
       "      <th>13</th>\n",
       "      <td>1</td>\n",
       "      <td>0</td>\n",
       "      <td>4</td>\n",
       "      <td>0</td>\n",
       "      <td>-1.0</td>\n",
       "      <td>0</td>\n",
       "      <td>0</td>\n",
       "      <td>1</td>\n",
       "      <td>2</td>\n",
       "      <td>0</td>\n",
       "    </tr>\n",
       "    <tr>\n",
       "      <th>15</th>\n",
       "      <td>1</td>\n",
       "      <td>0</td>\n",
       "      <td>3</td>\n",
       "      <td>7</td>\n",
       "      <td>22.0</td>\n",
       "      <td>0</td>\n",
       "      <td>1</td>\n",
       "      <td>1</td>\n",
       "      <td>2</td>\n",
       "      <td>1</td>\n",
       "    </tr>\n",
       "  </tbody>\n",
       "</table>\n",
       "</div>"
      ],
      "text/plain": [
       "    sex  age_cat  decile_score  priors_count  days_b_screening_arrest  \\\n",
       "1     1        0             3             0                     -1.0   \n",
       "2     1        2             4             4                     -1.0   \n",
       "11    1        2             6             3                      0.0   \n",
       "13    1        0             4             0                     -1.0   \n",
       "15    1        0             3             7                     22.0   \n",
       "\n",
       "    c_charge_degree  is_recid  score_text  length_of_stay  two_year_recid  \n",
       "1                 0         1           1               2               1  \n",
       "2                 0         1           1               2               1  \n",
       "11                1         1           2               2               1  \n",
       "13                0         0           1               2               0  \n",
       "15                0         1           1               2               1  "
      ]
     },
     "execution_count": 5,
     "metadata": {},
     "output_type": "execute_result"
    }
   ],
   "source": [
    "df_a=df1[(df1['race'] == 0)]\n",
    "del df_a['race']\n",
    "df_c=df1[(df1['race'] == 1)]\n",
    "del df_c['race']\n",
    "df_a.head()"
   ]
  },
  {
   "cell_type": "code",
   "execution_count": 6,
   "metadata": {},
   "outputs": [],
   "source": [
    "#split dataset so that training:validation:testing=5:1:1\n",
    "\n",
    "X_a = df_a.drop(columns = ['two_year_recid']).copy()\n",
    "y_a = df_a['two_year_recid']\n",
    "\n",
    "df_a_X_train, df_a_X_rem, df_a_y_train, df_a_y_rem = train_test_split(X_a,y_a, train_size=5/7.0)\n",
    "df_a_X_valid, df_a_X_test, df_a_y_valid, df_a_y_test = train_test_split(df_a_X_rem,df_a_y_rem, test_size=0.5)\n",
    "\n",
    "X_c = df_c.drop(columns = ['two_year_recid']).copy()\n",
    "y_c = df_c['two_year_recid']\n",
    "\n",
    "df_c_X_train, df_c_X_rem, df_c_y_train, df_c_y_rem = train_test_split(X_c,y_c, train_size=5/7.0)\n",
    "df_c_X_valid, df_c_X_test, df_c_y_valid, df_c_y_test = train_test_split(df_c_X_rem,df_c_y_rem, test_size=0.5)\n",
    "\n",
    "X_train=pd.concat([df_a_X_train,df_c_X_train])\n",
    "y_train=pd.concat([df_a_y_train,df_c_y_train])\n",
    "X_valid=pd.concat([df_a_X_valid,df_c_X_valid])\n",
    "y_valid=pd.concat([df_a_y_valid,df_c_y_valid])\n",
    "X_test=pd.concat([df_a_X_test,df_c_X_test])\n",
    "y_test=pd.concat([df_a_y_test,df_c_y_test])\n"
   ]
  },
  {
   "cell_type": "markdown",
   "metadata": {},
   "source": [
    "Baseline Model: Logistic Regression"
   ]
  },
  {
   "cell_type": "code",
   "execution_count": 7,
   "metadata": {},
   "outputs": [
    {
     "name": "stdout",
     "output_type": "stream",
     "text": [
      "Accuracy: 96.331%\n",
      "Accuracy: 95.842%\n",
      "Accuracy: 97.059%\n",
      "Calibration: 1.217%\n",
      "Accuracy: 97.163%\n",
      "Accuracy: 96.443%\n",
      "Accuracy: 98.235%\n",
      "Calibration: 1.793%\n"
     ]
    }
   ],
   "source": [
    "from sklearn.linear_model import LogisticRegression as logr\n",
    "from sklearn.metrics import accuracy_score \n",
    "clr=logr(random_state=0,max_iter=1000).fit(X_train, y_train)\n",
    "clr_a = logr(random_state=0,max_iter=1000).fit(df_a_X_train, df_a_y_train)\n",
    "clr_c = logr(random_state=0,max_iter=1000).fit(df_c_X_train, df_c_y_train)\n",
    "\n",
    "#validation acc\n",
    "result= clr.score(X_valid, y_valid)\n",
    "print(\"Accuracy: %.3f%%\" % (result*100.0))\n",
    "result_a = clr_a.score(df_a_X_valid, df_a_y_valid)\n",
    "print(\"Accuracy: %.3f%%\" % (result_a*100.0))\n",
    "result_c = clr_c.score(df_c_X_valid, df_c_y_valid)\n",
    "print(\"Accuracy: %.3f%%\" % (result_c*100.0))\n",
    "calibration=abs(result_a-result_c)\n",
    "print(\"Calibration: %.3f%%\" % (calibration*100.0))\n",
    "\n",
    "#test acc\n",
    "predict=clr.predict(X_test)\n",
    "a=accuracy_score(y_test,predict)\n",
    "print(\"Accuracy: %.3f%%\" % (a*100.0))\n",
    "predict_a = clr_a.predict(df_a_X_test)\n",
    "a_a=accuracy_score(df_a_y_test,predict_a)\n",
    "print(\"Accuracy: %.3f%%\" % (a_a*100.0))\n",
    "predict_c = clr_c.predict(df_c_X_test)\n",
    "a_c=accuracy_score(df_c_y_test,predict_c)\n",
    "print(\"Accuracy: %.3f%%\" % (a_c*100.0))\n",
    "calibration2=abs(a_a-a_c)\n",
    "print(\"Calibration: %.3f%%\" % (calibration2*100.0))\n"
   ]
  },
  {
   "cell_type": "raw",
   "metadata": {},
   "source": [
    "LR with PR"
   ]
  },
  {
   "cell_type": "code",
   "execution_count": 8,
   "metadata": {},
   "outputs": [],
   "source": [
    "#Logistic refression with PR\n",
    "class LogisticRegression(nn.Module):\n",
    "    def __init__(self,df):\n",
    "        super(LogisticRegression, self).__init__()\n",
    "        self.w = nn.Linear(df.shape[1], out_features=1, bias=True)\n",
    "        self.sigmod = nn.Sigmoid()\n",
    "    def forward(self,x):\n",
    "        w = self.w(x)\n",
    "        output = self.sigmod(w)\n",
    "        return output"
   ]
  },
  {
   "cell_type": "code",
   "execution_count": 9,
   "metadata": {},
   "outputs": [],
   "source": [
    "class PRLoss():#using linear\n",
    "    def __init__(self, eta=1.0):\n",
    "        super(PRLoss, self).__init__()\n",
    "        self.eta = eta\n",
    "    def forward(self,output_c,output_a):\n",
    "        # For the mutual information, \n",
    "        # eqn(9): Pr[y|s] = sum{(xi,si),si=s} sigma(xi,s) / D[xs]\n",
    "        #D[xs]\n",
    "        N_cau = t.tensor(output_c.shape[0])\n",
    "        N_aa   = t.tensor(output_a.shape[0])\n",
    "        Dxisi = t.stack((N_aa,N_cau),axis=0) #male sample, #female sample\n",
    "        # Pr[y|s]\n",
    "        y_pred_cau = t.sum(output_c)\n",
    "        y_pred_aa   = t.sum(output_a)\n",
    "        P_ys = t.stack((y_pred_aa,y_pred_cau),axis=0) / Dxisi\n",
    "        # eqn(10): Pr[y]~sum{(xi,si)} sigma(xi,si) / |D[xs]|\n",
    "        P = t.cat((output_c,output_a),0)\n",
    "        P_y = t.sum(P) / (df_c_X_train.shape[0]+df_a_X_train.shape[0])\n",
    "        # P(siyi)\n",
    "        P_s1y1 = t.log(P_ys[1]) - t.log(P_y)\n",
    "        P_s1y0 = t.log(1-P_ys[1]) - t.log(1-P_y)\n",
    "        P_s0y1 = t.log(P_ys[0]) - t.log(P_y)\n",
    "        P_s0y0 = t.log(1-P_ys[0]) - t.log(1-P_y)\n",
    "        # eqn(11) RPR\n",
    "        # PI=sum{xi,si}sum{y}M*ln(Pr[y|si]/Pr[y])=sum{xi,si}sum{y}M*ln(Pr[Y,S]/(Pr[S]pR[Y]))\n",
    "        PI_s1y1 = output_c * P_s1y1\n",
    "        PI_s1y0 =(1- output_c) * P_s1y0\n",
    "        PI_s0y1 = output_a * P_s0y1\n",
    "        PI_s0y0 = (1- output_a )* P_s0y0\n",
    "        PI = t.sum(PI_s1y1) + t.sum(PI_s1y0) + t.sum(PI_s0y1) + t.sum(PI_s0y0)\n",
    "        PI = self.eta * PI\n",
    "        return PI"
   ]
  },
  {
   "cell_type": "code",
   "execution_count": 10,
   "metadata": {},
   "outputs": [],
   "source": [
    "class PRLR():\n",
    "    def __init__(self, eta=0.0,epochs = 3000,lr = 0.01):\n",
    "        super(PRLR, self).__init__()\n",
    "        self.eta = eta\n",
    "        self.epochs = epochs\n",
    "        self.lr = lr\n",
    "    def fit(self,df_c_X_train,df_c_y_train,df_a_X_train,df_a_y_train):\n",
    "        model_c = LogisticRegression(df_c_X_train)\n",
    "        model_a = LogisticRegression(df_a_X_train)\n",
    "        criterion = nn.BCELoss(reduction='sum')\n",
    "        PI = PRLoss(eta=self.eta)\n",
    "        epochs = self.epochs\n",
    "        optimizer = t.optim.Adam(list(model_c.parameters())+ list(model_a.parameters()), self.lr, weight_decay=1e-5)\n",
    "        for epoch in range(epochs):\n",
    "            optimizer.zero_grad()\n",
    "            output_c = model_c(df_c_X_train)\n",
    "            output_a = model_a(df_a_X_train)\n",
    "            logloss = criterion(output_c, df_c_y_train)+ criterion(output_a, df_a_y_train)\n",
    "            PIloss = PI.forward(output_c,output_a)\n",
    "            loss = PIloss +logloss\n",
    "            loss.backward()\n",
    "            optimizer.step()\n",
    "            output_african_america = model_african_america(df_a_X_valid)\n",
    "            output_caucasian = model_caucasian(df_c_X_valid.float())\n",
    "            loglossv = criterion(output_african_america, df_a_y_valid)+ criterion(output_caucasian, df_c_y_valid)\n",
    "            PIlossv = PI.forward(output_african_america,output_caucasian)\n",
    "            val_loss = PI_lossv +loglossv\n",
    "            val_losses.append(val_loss.item())\n",
    "        model_c.eval()\n",
    "        model_a.eval()\n",
    "        accu = accuracy(model_c,model_a,df_c_X_train,df_c_y_train,df_a_X_train,df_a_y_train)\n",
    "        #cvs = CVS(model_c,model_a,df_c_X_train, df_a_X_train)\n",
    "        return accu#,cvs"
   ]
  },
  {
   "cell_type": "code",
   "execution_count": 16,
   "metadata": {},
   "outputs": [],
   "source": [
    "df_c_X_train=t.tensor(np.array(df_c_X_train)).to(t.float32)\n",
    "df_c_y_train=t.from_numpy(np.array(df_c_y_train).astype('float32')).reshape(df_c_X_train.shape[0],1)\n",
    "df_a_X_train=t.tensor(np.array(df_a_X_train)).to(t.float32)\n",
    "df_a_y_train=t.from_numpy(np.array(df_a_y_train).astype('float32')).reshape(df_a_X_train.shape[0],1)\n",
    "\n",
    "df_c_X_valid=t.tensor(np.array(df_c_X_valid)).to(t.float32)\n",
    "df_c_y_valid=t.from_numpy(np.array(df_c_y_valid).astype('float32')).reshape(df_c_X_valid.shape[0],1)\n",
    "df_a_X_valid=t.tensor(np.array(df_a_X_valid)).to(t.float32)\n",
    "df_a_y_valid=t.from_numpy(np.array(df_a_y_valid).astype('float32')).reshape(df_a_X_valid.shape[0],1)\n",
    "\n",
    "df_c_X_test=t.tensor(np.array(df_c_X_test)).to(t.float32)\n",
    "df_c_y_test=t.from_numpy(np.array(df_c_y_test).astype('float32')).reshape(df_c_X_test.shape[0],1)\n",
    "df_a_X_test=t.tensor(np.array(df_a_X_test)).to(t.float32)\n",
    "df_a_y_test=t.from_numpy(np.array(df_a_y_test).astype('float32')).reshape(df_a_X_test.shape[0],1)\n",
    "\n",
    "def accuracy( Model_c,Model_a, df_c_X_train,df_c_y_train,df_a_X_train,df_a_y_train):\n",
    "    yc_pred = (Model_c(df_c_X_train) >= 0.5)\n",
    "    ya_pred = (Model_a(df_a_X_train) >= 0.5)\n",
    "    accu_c  = t.sum(yc_pred.flatten() == df_c_y_train.flatten()) / df_c_X_train.shape[0]\n",
    "    accu_a  = t.sum(ya_pred.flatten() == df_a_y_train.flatten()) / df_a_X_train.shape[0]\n",
    "    accuracy = (accu_c + accu_a) / 2\n",
    "    calibration=abs(accu_c-accu_a)\n",
    "    return round(accuracy.item(),4),round(calibration.item(),4)\n",
    "    print(\"Accuracy : %.3f\" % (accuracy * 100)+'%')\n",
    "    print(\"Calibration : %.3f\" % (calibration * 100)+'%')\n",
    "\n",
    "eta_value = [0.0,1.0,2.0,3.0,4.0,5.0,10.0,15.0,20.0,25.0]\n",
    "PR = PRLR(eta = 0.0, epochs = 3000, lr = 0.01)\n",
    "accur = t.tensor(PR.fit(df_c_X_train,df_c_y_train,df_a_X_train,df_a_y_train)).reshape(2,1)\n",
    "accurv = t.tensor(PR.fit(df_c_X_valid,df_c_y_valid,df_a_X_valid,df_a_y_valid)).reshape(2,1)\n",
    "\n",
    "for e in range(1,len(eta_value)):\n",
    "    PR = PRLR(eta = eta_value[e], epochs = 3000, lr = 0.01)\n",
    "    accu2 = t.tensor(PR.fit(df_c_X_train,df_c_y_train,df_a_X_train,df_a_y_train)).reshape(2,1)\n",
    "    accuv2=t.tensor(PR.fit(df_c_X_valid,df_c_y_valid,df_a_X_valid,df_a_y_valid)).reshape(2,1)\n",
    "    accur = t.cat((accur,accu2),1)\n",
    "    accurv=t.cat((accurv,accuv2),1)\n"
   ]
  },
  {
   "cell_type": "code",
   "execution_count": 19,
   "metadata": {},
   "outputs": [
    {
     "data": {
      "image/png": "[encoded data removed]",
      "text/plain": [
       "<Figure size 432x288 with 1 Axes>"
      ]
     },
     "metadata": {
      "needs_background": "light"
     },
     "output_type": "display_data"
    }
   ],
   "source": [
    "eta_accu = accur[0].tolist()\n",
    "eta_accuv = accurv[0].tolist()\n",
    "plt.plot(eta_value,eta_accu)\n",
    "plt.plot(eta_value,eta_accuv)\n",
    "plt.xlabel('Parameter for Prejudice Remover')\n",
    "plt.ylabel('Accuracy')\n",
    "plt.show()"
   ]
  },
  {
   "cell_type": "code",
   "execution_count": 22,
   "metadata": {},
   "outputs": [
    {
     "data": {
      "text/plain": [
       "tensor(0.9696)"
      ]
     },
     "execution_count": 22,
     "metadata": {},
     "output_type": "execute_result"
    }
   ],
   "source": [
    "#eta=1\n",
    "accur[0][1]"
   ]
  },
  {
   "cell_type": "code",
   "execution_count": 23,
   "metadata": {},
   "outputs": [
    {
     "data": {
      "text/plain": [
       "tensor(0.9551)"
      ]
     },
     "execution_count": 23,
     "metadata": {},
     "output_type": "execute_result"
    }
   ],
   "source": [
    "#eta=1\n",
    "accurv[0][1]"
   ]
  },
  {
   "cell_type": "code",
   "execution_count": 30,
   "metadata": {},
   "outputs": [
    {
     "data": {
      "text/plain": [
       "0.025100000202655792"
      ]
     },
     "execution_count": 30,
     "metadata": {},
     "output_type": "execute_result"
    }
   ],
   "source": [
    "eta_calc=accurv[1].tolist()\n",
    "eta_calc[1]"
   ]
  },
  {
   "cell_type": "code",
   "execution_count": 24,
   "metadata": {},
   "outputs": [],
   "source": [
    "model_c = LogisticRegression(df_c_X_train)\n",
    "model_a = LogisticRegression(df_a_X_train)\n",
    "pr_accu=accuracy(model_c,model_a, df_c_X_test,df_c_y_test,df_a_X_test,df_a_y_test)\n"
   ]
  },
  {
   "cell_type": "code",
   "execution_count": 25,
   "metadata": {},
   "outputs": [
    {
     "data": {
      "text/plain": [
       "(0.5579, 0.0842)"
      ]
     },
     "execution_count": 25,
     "metadata": {},
     "output_type": "execute_result"
    }
   ],
   "source": [
    "#accuracy calibration\n",
    "pr_accu"
   ]
  },
  {
   "cell_type": "code",
   "execution_count": null,
   "metadata": {},
   "outputs": [],
   "source": []
  }
 ],
 "metadata": {
  "kernelspec": {
   "display_name": "Python 3",
   "language": "python",
   "name": "python3"
  },
  "language_info": {
   "codemirror_mode": {
    "name": "ipython",
    "version": 3
   },
   "file_extension": ".py",
   "mimetype": "text/x-python",
   "name": "python",
   "nbconvert_exporter": "python",
   "pygments_lexer": "ipython3",
   "version": "3.8.3"
  }
 },
 "nbformat": 4,
 "nbformat_minor": 4
}
